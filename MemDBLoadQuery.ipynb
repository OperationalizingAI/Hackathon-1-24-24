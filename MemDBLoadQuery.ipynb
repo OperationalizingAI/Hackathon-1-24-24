{
 "cells": [
  {
   "cell_type": "code",
   "execution_count": 1,
   "metadata": {
    "scrolled": true,
    "vscode": {
     "languageId": "plaintext"
    }
   },
   "outputs": [
    {
     "name": "stdout",
     "output_type": "stream",
     "text": [
      "\n",
      "\u001b[1m[\u001b[0m\u001b[34;49mnotice\u001b[0m\u001b[1;39;49m]\u001b[0m\u001b[39;49m A new release of pip is available: \u001b[0m\u001b[31;49m23.3.1\u001b[0m\u001b[39;49m -> \u001b[0m\u001b[32;49m23.3.2\u001b[0m\n",
      "\u001b[1m[\u001b[0m\u001b[34;49mnotice\u001b[0m\u001b[1;39;49m]\u001b[0m\u001b[39;49m To update, run: \u001b[0m\u001b[32;49mpip install --upgrade pip\u001b[0m\n"
     ]
    }
   ],
   "source": [
    "!pip --quiet install langchain-openai langchain langchainhub openai chromadb tiktoken pypdf tavily-python urllib3==1.26.15\n",
    "import os\n",
    "import chromadb\n",
    "\n",
    "# prefer this is set already in OS level...\n",
    "os.environ.setdefault('OPENAI_API_KEY', '<put your key here if not in env>')\n",
    "\n",
    "from langchain_openai import OpenAI, ChatOpenAI, OpenAIEmbeddings\n",
    "from langchain.chains import RetrievalQA\n",
    "from langchain.chains.question_answering import load_qa_chain\n",
    "from langchain.document_loaders import PyPDFLoader\n",
    "from langchain.indexes import VectorstoreIndexCreator\n",
    "from langchain.text_splitter import CharacterTextSplitter\n",
    "from langchain.vectorstores import Chroma\n",
    "from langchain_core.runnables import RunnableLambda, RunnablePassthrough\n",
    "from langchain_core.prompts import ChatPromptTemplate\n",
    "from langchain_core.output_parsers import StrOutputParser"
   ]
  },
  {
   "cell_type": "code",
   "execution_count": 2,
   "metadata": {
    "vscode": {
     "languageId": "plaintext"
    }
   },
   "outputs": [
    {
     "name": "stdout",
     "output_type": "stream",
     "text": [
      "Total items in collection:18\n"
     ]
    }
   ],
   "source": [
    "# automatically creating a chroma db, chunking text from parsed PDF, and persisting vectors in memory\n",
    "loader = PyPDFLoader(\"https://www.security.ntt/reports/Cyber-Security-Reports-2023-01-01.pdf\")\n",
    "index = VectorstoreIndexCreator(\n",
    "    # split the documents into chunks\n",
    "    text_splitter=CharacterTextSplitter(chunk_size=1000, chunk_overlap=0),\n",
    "    # select which embeddings we want to use\n",
    "    embedding=OpenAIEmbeddings(),\n",
    "    # use Chroma as the vectorestore to index and search embeddings\n",
    "    vectorstore_cls=Chroma\n",
    ").from_loaders([loader])\n",
    "\n",
    "client = chromadb.Client()\n",
    "collection = client.get_collection(name=\"langchain\")\n",
    "print(\"Total items in collection:\" + str(collection.count()))"
   ]
  },
  {
   "cell_type": "code",
   "execution_count": 3,
   "metadata": {
    "vscode": {
     "languageId": "plaintext"
    }
   },
   "outputs": [],
   "source": [
    "question = \"How can ChatGPT be used in cyber attacks?\""
   ]
  },
  {
   "cell_type": "markdown",
   "metadata": {
    "vscode": {
     "languageId": "plaintext"
    }
   },
   "source": [
    "## Testing run with LLEC chain/ chain_type=stuff"
   ]
  },
  {
   "cell_type": "code",
   "execution_count": 4,
   "metadata": {
    "vscode": {
     "languageId": "plaintext"
    }
   },
   "outputs": [
    {
     "data": {
      "text/plain": [
       "'ChatGPT can be used in cyberattacks for various purposes, such as generating text for phishing emails and social hacking. It can interact with humans and impersonate specific individuals, making it useful for scams and other fraudulent activities. Additionally, ChatGPT can store information about program development, which could be exploited for the development of malware. However, OpenAI, the developer of ChatGPT, has banned antisocial use and prevents the AI from answering questions that could lead to abuse or cyberattacks.'"
      ]
     },
     "execution_count": 4,
     "metadata": {},
     "output_type": "execute_result"
    }
   ],
   "source": [
    "## with LLEC chain\n",
    "db = Chroma(collection_name=\"langchain\",embedding_function=OpenAIEmbeddings())\n",
    "\n",
    "retriever = db.as_retriever()\n",
    "\n",
    "template = \"\"\"Answer the question based only on the following context:\n",
    "{context}\n",
    "\n",
    "Question: {question}\n",
    "\"\"\"\n",
    "prompt = ChatPromptTemplate.from_template(template)\n",
    "\n",
    "model = ChatOpenAI()\n",
    "\n",
    "chain = (\n",
    "    {\"context\": retriever, \"question\": RunnablePassthrough()}\n",
    "    | prompt\n",
    "    | model\n",
    "    | StrOutputParser()\n",
    ")\n",
    "\n",
    "chain.invoke(question)"
   ]
  },
  {
   "cell_type": "markdown",
   "metadata": {
    "vscode": {
     "languageId": "plaintext"
    }
   },
   "source": [
    "## Testing 4 different chain_types and their execution times."
   ]
  },
  {
   "cell_type": "code",
   "execution_count": 5,
   "metadata": {
    "vscode": {
     "languageId": "plaintext"
    }
   },
   "outputs": [
    {
     "name": "stdout",
     "output_type": "stream",
     "text": [
      "CPU times: user 125 ms, sys: 36.5 ms, total: 162 ms\n",
      "Wall time: 17 s\n"
     ]
    },
    {
     "data": {
      "text/plain": [
       "' It is believed that ChatGPT can be used in cyberattacks, and its developer OpenAI has taken steps to prevent its misuse. However, as the use of generative AI becomes more prevalent, unexpected uses may be discovered in the realm of cybersecurity.'"
      ]
     },
     "execution_count": 5,
     "metadata": {},
     "output_type": "execute_result"
    }
   ],
   "source": [
    "%time index.query(llm=OpenAI(), question=question, chain_type=\"map_reduce\")"
   ]
  },
  {
   "cell_type": "code",
   "execution_count": 6,
   "metadata": {
    "vscode": {
     "languageId": "plaintext"
    }
   },
   "outputs": [
    {
     "name": "stdout",
     "output_type": "stream",
     "text": [
      "CPU times: user 49.5 ms, sys: 5 ms, total: 54.5 ms\n",
      "Wall time: 8.81 s\n"
     ]
    },
    {
     "data": {
      "text/plain": [
       "' ChatGPT can be used in cyber attacks by generating text that can be used for phishing emails or developing malware.'"
      ]
     },
     "execution_count": 6,
     "metadata": {},
     "output_type": "execute_result"
    }
   ],
   "source": [
    "%time index.query(llm=OpenAI(), question=question, chain_type=\"stuff\")"
   ]
  },
  {
   "cell_type": "code",
   "execution_count": 7,
   "metadata": {
    "vscode": {
     "languageId": "plaintext"
    }
   },
   "outputs": [
    {
     "name": "stdout",
     "output_type": "stream",
     "text": [
      "CPU times: user 75.2 ms, sys: 6.4 ms, total: 81.6 ms\n",
      "Wall time: 34.1 s\n"
     ]
    },
    {
     "data": {
      "text/plain": [
       "\"\\n\\nChatGPT can be used in cyber attacks by generating email drafts and refining them to deceive recipients, leading them to open attachments that contain malicious VBA code. This has already been seen in real-world attacks, such as the Royal Mail cyber attack in 2022, where hackers used ChatGPT to craft convincing emails containing ransomware. This trend has raised concerns about the potential for AI-generated content to be used for malicious purposes, as it can bypass traditional email security measures. Additionally, the use of ChatGPT in cyber attacks has been observed by security researchers and companies, such as Kaspersky and Check Point Research, who have warned about the potential threats posed by this technology.\\n\\nMoreover, ChatGPT has the capability to generate text that is convincing to humans and can be used for social hacking, such as phishing emails. With the rapid development and adoption of generative AI, ChatGPT and other similar tools may hold the key to future cyber attacks. ChatGPT's ability to interact with humans and adjust its responses to impersonate specific individuals or experts makes it a potential tool for scams and other social engineering tactics. Additionally, the use of ChatGPT in developing malware and storing information about program development makes it a valuable tool for cybercriminals looking to\""
      ]
     },
     "execution_count": 7,
     "metadata": {},
     "output_type": "execute_result"
    }
   ],
   "source": [
    "%time index.query(llm=OpenAI(), question=question, chain_type=\"refine\")"
   ]
  },
  {
   "cell_type": "code",
   "execution_count": 8,
   "metadata": {
    "vscode": {
     "languageId": "plaintext"
    }
   },
   "outputs": [
    {
     "name": "stderr",
     "output_type": "stream",
     "text": [
      "/Users/chill104/workspaces/my-python3-env/lib/python3.9/site-packages/langchain/chains/llm.py:344: UserWarning: The apply_and_parse method is deprecated, instead pass an output parser directly to LLMChain.\n",
      "  warnings.warn(\n"
     ]
    },
    {
     "name": "stdout",
     "output_type": "stream",
     "text": [
      "CPU times: user 52.6 ms, sys: 5.26 ms, total: 57.8 ms\n",
      "Wall time: 11.4 s\n"
     ]
    },
    {
     "data": {
      "text/plain": [
       "' ChatGPT can be used to generate email drafts for phishing attacks and develop VBA code embedded in Excel macro files.'"
      ]
     },
     "execution_count": 8,
     "metadata": {},
     "output_type": "execute_result"
    }
   ],
   "source": [
    "# sometimes this fails... https://github.com/langchain-ai/langchain/issues/12459\n",
    "%time index.query(llm=OpenAI(), question=question, chain_type=\"map_rerank\")"
   ]
  }
 ],
 "metadata": {
  "kernelspec": {
   "display_name": "my-python3-kernel",
   "language": "python",
   "name": "my-python3-kernel"
  },
  "language_info": {
   "codemirror_mode": {
    "name": "ipython",
    "version": 3
   },
   "file_extension": ".py",
   "mimetype": "text/x-python",
   "name": "python",
   "nbconvert_exporter": "python",
   "pygments_lexer": "ipython3",
   "version": "3.9.6"
  }
 },
 "nbformat": 4,
 "nbformat_minor": 4
}
