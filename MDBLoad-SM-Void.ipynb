{
 "cells": [
  {
   "cell_type": "code",
   "execution_count": null,
   "metadata": {
    "colab": {
     "base_uri": "https://localhost:8080/"
    },
    "executionInfo": {
     "elapsed": 38670,
     "status": "ok",
     "timestamp": 1705687956904,
     "user": {
      "displayName": "John Willis",
      "userId": "15271974867993570949"
     },
     "user_tz": 360
    },
    "id": "KeIAv4AWCwop",
    "outputId": "b8cbd7fa-a8f7-40d7-f583-85c17c7a9cd9"
   },
   "outputs": [],
   "source": [
    "%pip install langchain pypdf pymongo langchain-openai tiktoken unstructured unstructured[local-inference] \"unstructured[pdf]\"\n"
   ]
  },
  {
   "cell_type": "code",
   "execution_count": null,
   "metadata": {
    "colab": {
     "base_uri": "https://localhost:8080/"
    },
    "executionInfo": {
     "elapsed": 6261,
     "status": "ok",
     "timestamp": 1705688038179,
     "user": {
      "displayName": "John Willis",
      "userId": "15271974867993570949"
     },
     "user_tz": 360
    },
    "id": "qianBJwuzkeL",
    "outputId": "8463d1b8-9fb9-4b3e-fbee-2a5a7bd7ca66"
   },
   "outputs": [],
   "source": [
    "import os\n",
    "\n",
    "%pip show langchain\n",
    "\n",
    "from platform import python_version\n",
    "print(python_version())"
   ]
  },
  {
   "cell_type": "code",
   "execution_count": null,
   "metadata": {
    "tags": []
   },
   "outputs": [],
   "source": [
    "import json\n",
    "import boto3\n",
    "from botocore.exceptions import ClientError\n",
    "\n",
    "def get_secret():\n",
    "\n",
    "    secret_name = \"hackathon\"\n",
    "    region_name = \"us-east-1\"\n",
    "\n",
    "    # Create a Secrets Manager client\n",
    "    session = boto3.session.Session()\n",
    "    client = session.client(\n",
    "        service_name='secretsmanager',\n",
    "        region_name=region_name\n",
    "    )\n",
    "\n",
    "    try:\n",
    "        get_secret_value_response = client.get_secret_value(\n",
    "            SecretId=secret_name\n",
    "        )\n",
    "    except ClientError as e:\n",
    "        # For a list of exceptions thrown, see\n",
    "        # https://docs.aws.amazon.com/secretsmanager/latest/apireference/API_GetSecretValue.html\n",
    "        raise e\n",
    "\n",
    "    secret = json.loads(get_secret_value_response['SecretString'])\n",
    "    print(secret)\n",
    "    return secret"
   ]
  },
  {
   "cell_type": "code",
   "execution_count": null,
   "metadata": {
    "tags": []
   },
   "outputs": [],
   "source": [
    "secret = get_secret()\n",
    "\n",
    "openai_api_key = secret[\"OPENAI_API_KEY\"]\n",
    "os.environ['OPENAI_API_KEY'] = openai_api_key\n",
    "\n",
    "MONGODB_ATLAS_CLUSTER_URI = secret[\"MONGODB_ATLAS_CLUSTER_URI_VOID\"]\n",
    "os.environ['MONGODB_ATLAS_CLUSTER_URI'] = MONGODB_ATLAS_CLUSTER_URI\n",
    "\n",
    "MONGODB_ATLAS_CLUSTER_URI_VOID = secret[\"MONGODB_ATLAS_CLUSTER_URI_VOID\"]\n",
    "os.environ['MONGODB_ATLAS_CLUSTER_URI'] = MONGODB_ATLAS_CLUSTER_URI\n",
    "\n",
    "langsmith_api_key = secret[\"LANGSMITH_API_KEY\"]\n",
    "os.environ['LANGSMITH_API_KEY'] = langsmith_api_key\n",
    "\n"
   ]
  },
  {
   "cell_type": "code",
   "execution_count": null,
   "metadata": {
    "tags": []
   },
   "outputs": [],
   "source": [
    "from pymongo import MongoClient\n",
    "\n",
    "# initialize MongoDB python client\n",
    "client = MongoClient(MONGODB_ATLAS_CLUSTER_URI_VOID)\n",
    "\n",
    "DB_NAME = \"Void_DB\"\n",
    "COLLECTION_NAME = \"Outages\"\n",
    "ATLAS_VECTOR_SEARCH_INDEX_NAME = \"vector_index\"\n",
    "\n",
    "MONGODB_COLLECTION = client[DB_NAME][COLLECTION_NAME]\n",
    "\n",
    "print(MONGODB_COLLECTION)"
   ]
  },
  {
   "cell_type": "markdown",
   "metadata": {
    "id": "m1GSMqJL4Z7G"
   },
   "source": [
    "Now we will setup the environment variables for the MongoDB Atlas cluster\n"
   ]
  },
  {
   "cell_type": "markdown",
   "metadata": {
    "id": "DpvqoXey5Gi2"
   },
   "source": [
    " In the below example, embedding is the name of the field that contains the embedding vector. Please refer to the documentation to get more details on how to define an Atlas Vector Search index. You can name the index {ATLAS_VECTOR_SEARCH_INDEX_NAME} and create the index on the namespace {DB_NAME}.{COLLECTION_NAME}. Finally, write the following definition in the JSON editor on MongoDB Atlas:\n",
    "\n",
    "~~~\n",
    "{\n",
    " \"fields\": [{\n",
    "   \"type\": \"vector\",\n",
    "   \"path\": \"embedding\",\n",
    "   \"numDimensions\": 1536,\n",
    "   \"similarity\": \"cosine\"\n",
    " }]\n",
    "}\n",
    "\n"
   ]
  },
  {
   "cell_type": "markdown",
   "metadata": {
    "id": "MElNfK8r5WWS"
   },
   "source": [
    "#Load Data"
   ]
  },
  {
   "cell_type": "code",
   "execution_count": null,
   "metadata": {
    "tags": []
   },
   "outputs": [],
   "source": [
    "from langchain.document_loaders import DirectoryLoader\n",
    "from langchain.text_splitter import RecursiveCharacterTextSplitter\n",
    "\n",
    "\n",
    "def load_and_process_docs(directory):\n",
    "    loader = DirectoryLoader(directory)\n",
    "    documents = loader.load()\n",
    "    processed_documents = []\n",
    "    for index, document in enumerate(documents):\n",
    "        #print(f\"Document {index}: Successfully loaded and processed {document}\")\n",
    "        processed_documents.append(document)\n",
    "    return processed_documents\n",
    "\n",
    "def split_docs(documents, chunk_size=1000, chunk_overlap=200):\n",
    "    text_splitter = RecursiveCharacterTextSplitter(chunk_size=chunk_size, chunk_overlap=chunk_overlap)\n",
    "    docs = text_splitter.split_documents(documents)\n",
    "    return docs\n",
    "\n",
    "def show_chunks(documents, chunk_size=1000, chunk_overlap=200):\n",
    "    text_splitter = RecursiveCharacterTextSplitter(chunk_size=chunk_size, chunk_overlap=chunk_overlap)\n",
    "    docs = text_splitter.split_documents(documents)\n",
    "\n",
    "    # Get the first 5 chunks\n",
    "    first_five_chunks = docs[150:155]\n",
    "\n",
    "    # Print each chunk and its length\n",
    "    for idx, chunk in enumerate(first_five_chunks, start=1):\n",
    "        print(f\"Chunk {idx}:\")\n",
    "        print(chunk)\n",
    "    return\n"
   ]
  },
  {
   "cell_type": "code",
   "execution_count": null,
   "metadata": {
    "tags": []
   },
   "outputs": [],
   "source": [
    "directory = \"/home/ec2-user/SageMaker/Hackathon-1-24-24/void/\"\n",
    "documents = load_and_process_docs(directory)\n",
    "docs = split_docs(documents)\n",
    "print(f\"{len(docs)} chunks successfully loaded and processed\")"
   ]
  },
  {
   "cell_type": "code",
   "execution_count": null,
   "metadata": {
    "tags": []
   },
   "outputs": [],
   "source": [
    "show_chunks(docs)"
   ]
  },
  {
   "cell_type": "code",
   "execution_count": null,
   "metadata": {
    "id": "JUVZbKK_5llj",
    "tags": []
   },
   "outputs": [],
   "source": [
    "from langchain_community.vectorstores import MongoDBAtlasVectorSearch\n",
    "from langchain_openai import OpenAIEmbeddings\n",
    "\n",
    "# insert the documents in MongoDB Atlas with their embedding\n",
    "vector_search = MongoDBAtlasVectorSearch.from_documents(\n",
    "    documents=docs,\n",
    "    embedding=OpenAIEmbeddings(disallowed_special=()),\n",
    "    collection=MONGODB_COLLECTION,\n",
    "    index_name=ATLAS_VECTOR_SEARCH_INDEX_NAME,\n",
    ")"
   ]
  },
  {
   "cell_type": "code",
   "execution_count": null,
   "metadata": {
    "colab": {
     "base_uri": "https://localhost:8080/"
    },
    "executionInfo": {
     "elapsed": 377,
     "status": "ok",
     "timestamp": 1705688109611,
     "user": {
      "displayName": "John Willis",
      "userId": "15271974867993570949"
     },
     "user_tz": 360
    },
    "id": "zfJefNOo5qxF",
    "outputId": "ffd00fc9-a2ce-48fa-ab76-db4b373b8f3a",
    "tags": []
   },
   "outputs": [],
   "source": [
    "# Perform a similarity search between the embedding of the query and the embeddings of the documents\n",
    "query = \"Summarize the Outages\"\n",
    "results = vector_search.similarity_search(query)\n",
    "print(results[0])\n",
    "\n",
    "print(results[0].page_content)"
   ]
  },
  {
   "cell_type": "code",
   "execution_count": null,
   "metadata": {
    "id": "6z1BxFKU5JZ5"
   },
   "outputs": [],
   "source": []
  }
 ],
 "metadata": {
  "colab": {
   "authorship_tag": "ABX9TyPcN4tQ1u4lkR014u0KR6Vk",
   "provenance": [
    {
     "file_id": "1bv0fjWMeMtF3f8xI0-__5mMkWEPxI605",
     "timestamp": 1705687706179
    }
   ]
  },
  "kernelspec": {
   "display_name": "conda_pytorch_p310",
   "language": "python",
   "name": "conda_pytorch_p310"
  },
  "language_info": {
   "codemirror_mode": {
    "name": "ipython",
    "version": 3
   },
   "file_extension": ".py",
   "mimetype": "text/x-python",
   "name": "python",
   "nbconvert_exporter": "python",
   "pygments_lexer": "ipython3",
   "version": "3.10.13"
  }
 },
 "nbformat": 4,
 "nbformat_minor": 4
}
